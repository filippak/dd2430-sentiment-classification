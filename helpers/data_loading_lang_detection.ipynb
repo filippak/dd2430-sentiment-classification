{
 "cells": [
  {
   "cell_type": "markdown",
   "metadata": {},
   "source": [
    "# Data loading from BQ and language detection\n",
    "In this file we show the functions that we used to\n",
    "- import and format the data from the BQ tables\n",
    "- using the external language detection library to filter our unlabeled comments\n",
    "\n",
    "In this version we do not use the actual table names."
   ]
  },
  {
   "cell_type": "markdown",
   "id": "14fafa44",
   "metadata": {},
   "source": [
    "# 1. Import the data from Big Query."
   ]
  },
  {
   "cell_type": "markdown",
   "id": "053d59fa",
   "metadata": {},
   "source": [
    "To import the data from BQ we have used the tutorial \"Visualizing BigQuery public data that was located in the tutorials folder of repo."
   ]
  },
  {
   "cell_type": "code",
   "execution_count": 1,
   "id": "b574b74b",
   "metadata": {},
   "outputs": [],
   "source": [
    "from google.cloud import bigquery\n",
    "import pandas as pd\n",
    "import matplotlib.pyplot as plt\n",
    "import numpy as np\n",
    "from sklearn.model_selection import StratifiedShuffleSplit\n",
    "# !pip install transformers==4.3.2\n",
    "import torch\n",
    "import io\n",
    "import torch.nn.functional as F\n",
    "import random\n",
    "import numpy as np\n",
    "import time\n",
    "import math\n",
    "import datetime\n",
    "import torch.nn as nn\n",
    "from transformers import *\n",
    "from torch.utils.data import TensorDataset, DataLoader, RandomSampler, SequentialSampler\n",
    "#!pip install torch==1.7.1+cu101 torchvision==0.8.2+cu101 -f https://download.pytorch.org/whl/torch_stable.html\n",
    "#!pip install sentencepiece\n",
    "\n",
    "##Set random values\n",
    "seed_val = 42\n",
    "random.seed(seed_val)\n",
    "np.random.seed(seed_val)\n",
    "torch.manual_seed(seed_val)\n",
    "if torch.cuda.is_available():\n",
    "  torch.cuda.manual_seed_all(seed_val)\n",
    "\n",
    "client = bigquery.Client()"
   ]
  },
  {
   "cell_type": "code",
   "execution_count": null,
   "id": "64c7eeb2",
   "metadata": {},
   "outputs": [],
   "source": [
    "# If there's a GPU available...\n",
    "if torch.cuda.is_available():    \n",
    "    # Tell PyTorch to use the GPU.    \n",
    "    device = torch.device(\"cuda\")\n",
    "    print('There are %d GPU(s) available.' % torch.cuda.device_count())\n",
    "    print('We will use the GPU:', torch.cuda.get_device_name(0))\n",
    "# If not...\n",
    "else:\n",
    "    print('No GPU available, using the CPU instead.')\n",
    "    device = torch.device(\"cpu\")"
   ]
  },
  {
   "cell_type": "code",
   "execution_count": 7,
   "id": "5e3286c8",
   "metadata": {},
   "outputs": [
    {
     "name": "stdout",
     "output_type": "stream",
     "text": [
      "8909  unlabeled comments before removing stuff\n",
      "You have:  7927  unlabeled comments.\n",
      "You're using:  982  /  982  labeled comments.\n",
      "Negative: 74% (728)\n",
      "Positive: 25% (254)\n"
     ]
    }
   ],
   "source": [
    "sql_labeled = \"\"\"\n",
    "SELECT * FROM `BQ TABLE NAME` WHERE NOT sentiment_label=0\n",
    "\"\"\"\n",
    "\n",
    "\n",
    "sql_unlabeled = \"\"\"\n",
    "SELECT * FROM `BQ TABLE NAME` \n",
    "WHERE char_length(message) > 10\n",
    "AND message NOT LIKE '%http%'\n",
    "ORDER BY RAND()\n",
    "LIMIT 10000\n",
    "\"\"\"\n",
    "\n",
    "'''\n",
    "Pre-processing of the labeled data\n",
    "'''\n",
    "fb_comments_labeled_df = client.query(sql_labeled).to_dataframe()\n",
    "# drop duplicates\n",
    "fb_comments_labeled_df = fb_comments_labeled_df.drop_duplicates(subset='comment_id')\n",
    "# Shuffle rows and change the sentiment_label values\n",
    "fb_comments_labeled_df = fb_comments_labeled_df.sample(frac=1).reset_index(drop=True) # shuffle rows of dataframe\n",
    "fb_comments_labeled_df['sentiment_label'] = fb_comments_labeled_df['sentiment_label'].map({1:'pos', -1:'neg'})\n",
    "\n",
    "# Drop some labeled comments to adjust the percentage. \n",
    "n_wanted = 982\n",
    "n_actual = len(fb_comments_labeled_df)\n",
    "n_to_drop = n_actual - n_wanted\n",
    "fb_comments_labeled_df.drop(fb_comments_labeled_df.tail(n_to_drop).index, inplace=True)\n",
    "# save the data as pkl\n",
    "fb_comments_labeled_df.to_pickle(\"./labeled_filtered_comments.pkl\")\n",
    "\n",
    "'''\n",
    "Pre-processing of the unlabeled data\n",
    "'''\n",
    "unlabeled_df = client.query(sql_unlabeled).to_dataframe()\n",
    "print(len(unlabeled_df), \" unlabeled comments before removing stuff\")\n",
    "# filter the unlabeled data to remove entries that are labeled\n",
    "fb_comments_unlabeled_df = unlabeled_df[~unlabeled_df.comment_id.isin(fb_comments_labeled_df.comment_id)]\n",
    "print(\"You have: \", len(fb_comments_unlabeled_df), \" unlabeled comments.\")\n",
    "\n",
    "fb_comments_unlabeled_df.head()\n",
    "fb_comments_labeled_df.head()\n",
    "print(\"You're using: \", len(fb_comments_labeled_df), \" / \", n_actual ,\" labeled comments.\")\n",
    "n_neg, n_pos = fb_comments_labeled_df[\"sentiment_label\"].value_counts()[0], fb_comments_labeled_df[\"sentiment_label\"].value_counts()[1]\n",
    "print(\"Negative: %d%% (%d)\" %(n_neg*100/len(fb_comments_labeled_df), n_neg))\n",
    "print(\"Positive: %d%% (%d)\" %(n_pos*100/len(fb_comments_labeled_df), n_pos))"
   ]
  },
  {
   "cell_type": "markdown",
   "id": "7852318d",
   "metadata": {},
   "source": [
    "# 2. Language detection and filtering.\n",
    "Remove non Swedish comments."
   ]
  },
  {
   "cell_type": "code",
   "execution_count": null,
   "id": "ae1a6da1",
   "metadata": {},
   "outputs": [],
   "source": [
    "#--------------------------------\n",
    "# Use language detection library to remove comments in other languages\n",
    "# see: https://pypi.org/project/langdetect/\n",
    "#--------------------------------\n",
    "\n",
    "# !pip install langdetect\n",
    "from langdetect import detect\n",
    "\n",
    "langs = {}\n",
    "lang_list = []\n",
    "print('Detecting languages in unlabeled data...')\n",
    "\n",
    "# Loop through all unlabeled data and classify language using external library\n",
    "\n",
    "for index, row in fb_comments_unlabeled_df.iterrows():\n",
    "    text = row['message']\n",
    "    try:\n",
    "        pred = detect(text) # use langdetect library to get langauge\n",
    "    except:\n",
    "        print('could not detect language for the text: ', text)\n",
    "        lang_list.append('N/A')\n",
    "    else:\n",
    "        lang_list.append(pred)\n",
    "        if pred in langs.keys():\n",
    "            data = langs[pred]\n",
    "            data.append(text)\n",
    "            langs[pred] = data\n",
    "        else:\n",
    "            langs[pred] = [text]\n",
    "\n",
    "# Add a language column to the df\n",
    "df_with_lang = fb_comments_unlabeled_df.copy()\n",
    "df_with_lang['language'] = lang_list\n",
    "\n",
    "# drop rows that do not have sve, no or da lang\n",
    "ok_languages = ['sv', 'no', 'da']\n",
    "fb_comments_unlabeled_df = df_with_lang[df_with_lang['language'].isin(ok_languages)]\n",
    "print(\"After removing unsupported languages\")\n",
    "print(\"You have \", len(fb_comments_unlabeled_df), \" unlabeled comments\")\n",
    "\n",
    "# Saving the filtered unlabeled DataFrame to not have to run language detection every time..\n",
    "fb_comments_unlabeled_df.to_pickle(\"./unlabeled_filtered_comments.pkl\")"
   ]
  },
  {
   "cell_type": "code",
   "execution_count": 11,
   "id": "8869d56f",
   "metadata": {},
   "outputs": [
    {
     "name": "stdout",
     "output_type": "stream",
     "text": [
      "34  languages detected\n"
     ]
    },
    {
     "data": {
      "image/png": "[encoded data removed]",
      "text/plain": [
       "<Figure size 432x288 with 1 Axes>"
      ]
     },
     "metadata": {
      "needs_background": "light"
     },
     "output_type": "display_data"
    }
   ],
   "source": [
    "#--------------------------------\n",
    "# Calculate and plot some statistics about the languages\n",
    "#--------------------------------\n",
    "import matplotlib.pyplot as plt\n",
    "\n",
    "\n",
    "print(len(langs.keys()), ' languages detected')\n",
    "lan_labels = list(langs.keys())\n",
    "lan_values = []\n",
    "for comment_list in langs.values():\n",
    "    lan_values.append(len(comment_list))\n",
    "\n",
    "# sort by number of comments, and only plot the top 10 detected languages\n",
    "lan_values, lan_labels = zip(*sorted(zip(lan_values, lan_labels), reverse=True))\n",
    "\n",
    "# Set number of languages to include in plot\n",
    "num_langs_in_plot = 10\n",
    "if len(langs.keys()) < 10:\n",
    "    num_langs_in_plot = len(langs.keys())\n",
    "lan_labels = lan_labels[:num_langs_in_plot]\n",
    "lan_values = lan_values[:num_langs_in_plot]\n",
    "x_pos = np.arange(len(lan_labels))\n",
    "\n",
    "fig, ax = plt.subplots()\n",
    "\n",
    "p1 = ax.bar(x_pos, lan_values, align='center')\n",
    "ax.set_xticks(x_pos)\n",
    "ax.set_xticklabels(lan_labels)\n",
    "ax.set_ylabel('Number of comments')\n",
    "ax.set_title('Language distribution of unlabeled data')\n",
    "plt.show()"
   ]
  }
 ],
 "metadata": {
  "environment": {
   "name": "pytorch-gpu.1-9.m79",
   "type": "gcloud",
   "uri": "gcr.io/deeplearning-platform-release/pytorch-gpu.1-9:m79"
  },
  "kernelspec": {
   "display_name": "Python [conda env:root] *",
   "language": "python",
   "name": "conda-root-py"
  },
  "language_info": {
   "codemirror_mode": {
    "name": "ipython",
    "version": 3
   },
   "file_extension": ".py",
   "mimetype": "text/x-python",
   "name": "python",
   "nbconvert_exporter": "python",
   "pygments_lexer": "ipython3",
   "version": "3.7.10"
  }
 },
 "nbformat": 4,
 "nbformat_minor": 5
}
